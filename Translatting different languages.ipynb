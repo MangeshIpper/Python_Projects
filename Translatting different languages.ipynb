{
 "cells": [
  {
   "cell_type": "markdown",
   "metadata": {},
   "source": [
    "## 1. Goslate Library"
   ]
  },
  {
   "cell_type": "code",
   "execution_count": 1,
   "metadata": {},
   "outputs": [
    {
     "name": "stdout",
     "output_type": "stream",
     "text": [
      "Collecting goslate\n",
      "  Downloading goslate-1.5.1.tar.gz (17 kB)\n",
      "Collecting futures\n",
      "  Downloading futures-3.0.5.tar.gz (25 kB)\n",
      "Building wheels for collected packages: goslate, futures\n",
      "  Building wheel for goslate (setup.py): started\n",
      "  Building wheel for goslate (setup.py): finished with status 'done'\n",
      "  Created wheel for goslate: filename=goslate-1.5.1-py3-none-any.whl size=11554 sha256=18a8e508f5f63f4e662ddafa4ab1938aedb447ef56cbe8d810987bca61b150ae\n",
      "  Stored in directory: c:\\users\\mange\\appdata\\local\\pip\\cache\\wheels\\ce\\7d\\3b\\d13c7465b077ff93da8b99a13a49ffcaada38cf4ce3a6772a8\n",
      "  Building wheel for futures (setup.py): started\n",
      "  Building wheel for futures (setup.py): finished with status 'done'\n",
      "  Created wheel for futures: filename=futures-3.0.5-py3-none-any.whl size=14082 sha256=5b8561a6547d6e91cc95b305ff587e0f5c721603805bff5c35e44b9509c9cc0d\n",
      "  Stored in directory: c:\\users\\mange\\appdata\\local\\pip\\cache\\wheels\\8b\\63\\2a\\b26b5d293191299916236972878f61ed040ae952349024bb56\n",
      "Successfully built goslate futures\n",
      "Installing collected packages: futures, goslate\n",
      "Successfully installed futures-3.0.5 goslate-1.5.1\n"
     ]
    }
   ],
   "source": [
    "!pip install goslate"
   ]
  },
  {
   "cell_type": "code",
   "execution_count": 2,
   "metadata": {},
   "outputs": [
    {
     "data": {
      "text/plain": [
       "'Hola, mi nombre es MANGESH IPPER y soy un científico de datos.'"
      ]
     },
     "execution_count": 2,
     "metadata": {},
     "output_type": "execute_result"
    }
   ],
   "source": [
    "import goslate\n",
    "text = \"Hi, My name is Mangesh Ipper and I am a Data Scientist\"\n",
    "goslateLib = goslate.Goslate()\n",
    "goslateLib.translate(text, 'es') ## 'fr', 'ar' any  language as per your choice"
   ]
  },
  {
   "cell_type": "code",
   "execution_count": null,
   "metadata": {},
   "outputs": [],
   "source": []
  }
 ],
 "metadata": {
  "kernelspec": {
   "display_name": "Python 3",
   "language": "python",
   "name": "python3"
  },
  "language_info": {
   "codemirror_mode": {
    "name": "ipython",
    "version": 3
   },
   "file_extension": ".py",
   "mimetype": "text/x-python",
   "name": "python",
   "nbconvert_exporter": "python",
   "pygments_lexer": "ipython3",
   "version": "3.8.5"
  }
 },
 "nbformat": 4,
 "nbformat_minor": 4
}
